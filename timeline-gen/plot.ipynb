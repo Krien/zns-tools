{
 "cells": [
  {
   "cell_type": "code",
   "execution_count": 27,
   "id": "6cf6fc3b",
   "metadata": {},
   "outputs": [],
   "source": [
    "import json\n",
    "import turtle\n",
    "import re"
   ]
  },
  {
   "cell_type": "code",
   "execution_count": 36,
   "id": "c598a571",
   "metadata": {},
   "outputs": [],
   "source": [
    "# set global vars\n",
    "DATA_FILE_JSON = \"data.json\"\n",
    "DATA_FILE_SUMMARY = \"summary\""
   ]
  },
  {
   "cell_type": "code",
   "execution_count": 182,
   "id": "d01c8ee0",
   "metadata": {
    "scrolled": true
   },
   "outputs": [],
   "source": [
    "# Load the summary to identify files to follow\n",
    "#\n",
    "# Assumes summary format is in this order\n",
    "#     trivial:    -> all trivial moves\n",
    "#                 order of:\n",
    "#                     job [src_level]->[dest_level] [src_table]->[dest_table]\n",
    "#                     R: [zone_resets]\n",
    "#     flush:      -> all flushes\n",
    "#                 order of:\n",
    "#                     job [table]\n",
    "#                     R: [zone_resets]\n",
    "#     compaction: -> all compactions\n",
    "#                 order of:\n",
    "#                     job src_level->dest_level [src_tables] | [merge_tables] -> [dest_tables] \n",
    "#                     D: [table_deletes]\n",
    "#                     R: [zone_resets]\n",
    "\n",
    "summary_dict = dict()\n",
    "\n",
    "with open(DATA_FILE_SUMMARY) as sum_file:\n",
    "    trivial = False\n",
    "    flush = False\n",
    "    compaction = False\n",
    "    summary_dict[\"trivial\"] = dict()\n",
    "    summary_dict[\"flush\"] = dict()\n",
    "    summary_dict[\"compaction\"] = dict()\n",
    "    job_stack = []\n",
    "\n",
    "    \n",
    "    for line in sum_file:\n",
    "        if trivial:\n",
    "            if \"flush:\" in line:\n",
    "                trivial = False\n",
    "                flush = True\n",
    "            else:\n",
    "                line_split = line.split()\n",
    "                job = line_split[0]\n",
    "                summary_dict[\"trivial\"][job] = dict()\n",
    "                if \"R\" in line:\n",
    "                    summary_dict[\"trivial\"][job_stack.pop()][\"resets\"] = eval(line[line.find(\"[\"):line.find(\"]\")+1])\n",
    "                else:\n",
    "                    job_stack.append(job)\n",
    "                    levels = list(map(int, re.findall(r'\\d+', line_split[1])))\n",
    "                    summary_dict[\"trivial\"][job][\"src_level\"] = levels[0] \n",
    "                    summary_dict[\"trivial\"][job][\"dest_level\"] = levels[1]\n",
    "\n",
    "                    # Tables are identical as the moves are trivial\n",
    "                    tables = line[line.find(\"[\"):line.find(\"]\")+1]\n",
    "                    summary_dict[\"trivial\"][job][\"tables\"] = eval(tables)\n",
    "            \n",
    "        elif flush:\n",
    "            if \"compaction:\" in line:\n",
    "                flush = False\n",
    "                compaction = True\n",
    "            else:\n",
    "                line_split = line.split()\n",
    "                job = line_split[0]\n",
    "                job_stack.append(job)\n",
    "                summary_dict[\"flush\"][job] = dict()\n",
    "                if \"R\" in line:\n",
    "                    summary_dict[\"flush\"][job_stack.pop()][\"resets\"] = eval(line[line.find(\"[\"):line.find(\"]\")+1])\n",
    "                else:\n",
    "                    job_stack.append(job)\n",
    "                    summary_dict[\"flush\"][job][\"table\"] = line[line.find(\"[\")+2:line.find(\"]\")-1] # strip the ' char\n",
    "\n",
    "        elif compaction:\n",
    "            line_split = line.split()\n",
    "            job = line_split[0]\n",
    "            summary_dict[\"compaction\"][job] = dict()\n",
    "            if \"R\" in line:\n",
    "                summary_dict[\"compaction\"][job_stack.pop()][\"resets\"] = \\\n",
    "                    eval(line[line.find(\"[\"):line.find(\"]\")+1])\n",
    "            elif \"D\" in line:\n",
    "                job = job_stack.pop()\n",
    "                job_stack.append(job)\n",
    "                summary_dict[\"compaction\"][job][\"resets\"] = \\\n",
    "                    eval(line[line.find(\"[\"):line.find(\"]\")+1])\n",
    "            else:\n",
    "                job_stack.append(job)\n",
    "                levels = list(map(int, re.findall(r'\\d+', line_split[1])))\n",
    "                summary_dict[\"compaction\"][job][\"src_level\"] = levels[0] \n",
    "                summary_dict[\"compaction\"][job][\"dest_level\"] = levels[1]\n",
    "                table_split = line.split(\"|\")\n",
    "                src_tables = line[table_split[0].find(\"[\"):table_split[0].find(\"]\")+1]\n",
    "                summary_dict[\"compaction\"][job][\"src_tables\"] = eval(src_tables)\n",
    "                info = table_split[1].split(\"->\")\n",
    "                summary_dict[\"compaction\"][job][\"merge_tables\"] = eval(info[0])\n",
    "                summary_dict[\"compaction\"][job][\"dest_tables\"] = eval(info[1])\n",
    "\n",
    "        if \"trivial:\" in line:\n",
    "            trivial = True"
   ]
  },
  {
   "cell_type": "code",
   "execution_count": 179,
   "id": "6fecc818",
   "metadata": {},
   "outputs": [],
   "source": [
    "# Load the json data\n",
    "file = open(DATA_FILE_JSON) \n",
    "json_data = json.load(file)"
   ]
  },
  {
   "cell_type": "code",
   "execution_count": null,
   "id": "e7f0a1bf",
   "metadata": {},
   "outputs": [],
   "source": []
  },
  {
   "cell_type": "code",
   "execution_count": 9,
   "id": "ad50d165",
   "metadata": {},
   "outputs": [],
   "source": [
    "\n"
   ]
  },
  {
   "cell_type": "code",
   "execution_count": null,
   "id": "81f870a9",
   "metadata": {},
   "outputs": [],
   "source": []
  }
 ],
 "metadata": {
  "kernelspec": {
   "display_name": "Python 3 (ipykernel)",
   "language": "python",
   "name": "python3"
  },
  "language_info": {
   "codemirror_mode": {
    "name": "ipython",
    "version": 3
   },
   "file_extension": ".py",
   "mimetype": "text/x-python",
   "name": "python",
   "nbconvert_exporter": "python",
   "pygments_lexer": "ipython3",
   "version": "3.10.6"
  }
 },
 "nbformat": 4,
 "nbformat_minor": 5
}
