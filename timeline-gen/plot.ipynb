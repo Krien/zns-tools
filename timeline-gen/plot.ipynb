{
 "cells": [
  {
   "cell_type": "code",
   "execution_count": 243,
   "id": "6cf6fc3b",
   "metadata": {},
   "outputs": [],
   "source": [
    "import json\n",
    "import re\n",
    "import matplotlib.pyplot as plt\n",
    "from matplotlib.patches import Rectangle"
   ]
  },
  {
   "cell_type": "code",
   "execution_count": 2,
   "id": "c598a571",
   "metadata": {},
   "outputs": [],
   "source": [
    "# set global vars\n",
    "DATA_FILE_JSON = \"data.json\"\n",
    "DATA_FILE_SUMMARY = \"summary\""
   ]
  },
  {
   "cell_type": "code",
   "execution_count": 86,
   "id": "d01c8ee0",
   "metadata": {
    "scrolled": true
   },
   "outputs": [],
   "source": [
    "# Load the summary to identify files to follow\n",
    "#\n",
    "# Assumes summary format is in this order\n",
    "#     trivial:    -> all trivial moves\n",
    "#                 order of:\n",
    "#                     job [src_level]->[dest_level] [src_table]->[dest_table]\n",
    "#                     R: [zone_resets]\n",
    "#     flush:      -> all flushes\n",
    "#                 order of:\n",
    "#                     job [table]\n",
    "#                     R: [zone_resets]\n",
    "#     compaction: -> all compactions\n",
    "#                 order of:\n",
    "#                     job src_level->dest_level [src_tables] | [merge_tables] -> [dest_tables] \n",
    "#                     D: [table_deletes]\n",
    "#                     R: [zone_resets]\n",
    "\n",
    "summary_dict = dict()\n",
    "\n",
    "with open(DATA_FILE_SUMMARY) as sum_file:\n",
    "    trivial = False\n",
    "    flush = False\n",
    "    compaction = False\n",
    "    summary_dict[\"trivial\"] = dict()\n",
    "    summary_dict[\"flush\"] = dict()\n",
    "    summary_dict[\"compaction\"] = dict()\n",
    "    job_stack = []\n",
    "\n",
    "    \n",
    "    for line in sum_file:\n",
    "        if trivial:\n",
    "            if \"flush:\" in line:\n",
    "                trivial = False\n",
    "                flush = True\n",
    "            else:\n",
    "                line_split = line.split()\n",
    "                if \"R\" in line:\n",
    "                    summary_dict[\"trivial\"][job_stack.pop()][\"resets\"] = eval(line[line.find(\"[\"):line.find(\"]\")+1])\n",
    "                else:\n",
    "                    job = line_split[0]\n",
    "                    summary_dict[\"trivial\"][job] = dict()\n",
    "                    job_stack.append(job)\n",
    "                    levels = list(map(int, re.findall(r'\\d+', line_split[1])))\n",
    "                    summary_dict[\"trivial\"][job][\"src_level\"] = levels[0] \n",
    "                    summary_dict[\"trivial\"][job][\"dest_level\"] = levels[1]\n",
    "\n",
    "                    # Tables are identical as the moves are trivial\n",
    "                    tables = line[line.find(\"[\"):line.find(\"]\")+1]\n",
    "                    summary_dict[\"trivial\"][job][\"tables\"] = eval(tables)\n",
    "            \n",
    "        elif flush:\n",
    "            if \"compaction:\" in line:\n",
    "                flush = False\n",
    "                compaction = True\n",
    "            else:\n",
    "                line_split = line.split()\n",
    "                if \"R\" in line:\n",
    "                    summary_dict[\"flush\"][job_stack.pop()][\"resets\"] = eval(line[line.find(\"[\"):line.find(\"]\")+1])\n",
    "                else:\n",
    "                    job = line_split[0]\n",
    "                    job_stack.append(job)\n",
    "                    summary_dict[\"flush\"][job] = dict()\n",
    "                    summary_dict[\"flush\"][job][\"table\"] = int(line[line.find(\"[\")+2:line.find(\"]\")-1]) # strip the ' char\n",
    "\n",
    "        elif compaction:\n",
    "            line_split = line.split()\n",
    "\n",
    "            if \"R\" in line:\n",
    "                summary_dict[\"compaction\"][job_stack.pop()][\"resets\"] = \\\n",
    "                    eval(line[line.find(\"[\"):line.find(\"]\")+1])\n",
    "            elif \"D\" in line:\n",
    "                job = job_stack.pop()\n",
    "                job_stack.append(job)\n",
    "                summary_dict[\"compaction\"][job][\"resets\"] = \\\n",
    "                    eval(line[line.find(\"[\"):line.find(\"]\")+1])\n",
    "            else:\n",
    "                job = line_split[0]\n",
    "                summary_dict[\"compaction\"][job] = dict()\n",
    "                job_stack.append(job)\n",
    "                levels = list(map(int, re.findall(r'\\d+', line_split[1])))\n",
    "                summary_dict[\"compaction\"][job][\"src_level\"] = levels[0] \n",
    "                summary_dict[\"compaction\"][job][\"dest_level\"] = levels[1]\n",
    "                table_split = line.split(\"|\")\n",
    "                src_tables = line[table_split[0].find(\"[\"):table_split[0].find(\"]\")+1]\n",
    "                summary_dict[\"compaction\"][job][\"src_tables\"] = eval(src_tables)\n",
    "                info = table_split[1].split(\"->\")\n",
    "                summary_dict[\"compaction\"][job][\"merge_tables\"] = eval(info[0])\n",
    "                summary_dict[\"compaction\"][job][\"dest_tables\"] = eval(info[1])\n",
    "\n",
    "        if \"trivial:\" in line:\n",
    "            trivial = True"
   ]
  },
  {
   "cell_type": "code",
   "execution_count": 87,
   "id": "6fecc818",
   "metadata": {},
   "outputs": [],
   "source": [
    "# Load the json data\n",
    "file = open(DATA_FILE_JSON) \n",
    "json_data = json.load(file)"
   ]
  },
  {
   "cell_type": "code",
   "execution_count": null,
   "id": "d305620b",
   "metadata": {},
   "outputs": [],
   "source": []
  },
  {
   "cell_type": "code",
   "execution_count": 88,
   "id": "8927e39e",
   "metadata": {},
   "outputs": [],
   "source": [
    "# Set configuration variables for plotting\n",
    "\n",
    "MAX_TIMEUNITS = 2 # Set the number of time units to show (i.e., operations; flush, compaction, trivial, F2FS GC)\n",
    "TRACE_FILE = 15 # Number of the SST file to trace"
   ]
  },
  {
   "cell_type": "code",
   "execution_count": 211,
   "id": "e935b627",
   "metadata": {},
   "outputs": [],
   "source": [
    "class Zone:\n",
    "    def __init__(self, zone, temperature, status, file):\n",
    "        self.zone = zone\n",
    "        self.temperature = temperature\n",
    "        self.status = status # Valid, Invalid, Reset\n",
    "        self.files = []\n",
    "        self.files.append(file)\n",
    "        \n",
    "    def __str__(self):\n",
    "        return f\"Zone Number: {self.zone}, Temp: {self.temperature}, Status: {self.status}, Files: {self.files}\\n\""
   ]
  },
  {
   "cell_type": "code",
   "execution_count": 232,
   "id": "16f2ef7a",
   "metadata": {},
   "outputs": [],
   "source": [
    "class TimeUnit:\n",
    "    def __init__(self, id, job, operation):\n",
    "        self.id = id\n",
    "        self.operation = operation\n",
    "        self.job = job\n",
    "        self.zones = []\n",
    "        self.files = []\n",
    "        \n",
    "    def __str__(self):\n",
    "        msg = f\"ID: {self.id}, Job: {self.job}, OP: {self.operation}, Files: {self.files}\\n\"\n",
    "        msg += f\"Total Zones: {len(self.zones)}\\n\"\n",
    "        for zone in self.zones:\n",
    "            msg += str(zone)\n",
    "        return msg\n",
    "    \n",
    "    def addfile(self, file):\n",
    "        self.files.append(file)\n",
    "    \n",
    "    def addzone(self, zoneid, temperature, status, file):\n",
    "        self.zones.append(Zone(zoneid, temperature, status, file))\n",
    "        if not file in self.files:\n",
    "            self.files.append(file)\n",
    "        \n",
    "    def haszone(self, zoneid):\n",
    "        for zone in self.zones:\n",
    "            if zoneid == zone.zone:\n",
    "                return True\n",
    "        return False\n",
    "        "
   ]
  },
  {
   "cell_type": "code",
   "execution_count": 255,
   "id": "ad50d165",
   "metadata": {
    "scrolled": false
   },
   "outputs": [
    {
     "name": "stdout",
     "output_type": "stream",
     "text": [
      "ID: 0, Job: 11, OP: flush, Files: [15]\n",
      "Total Zones: 2\n",
      "Zone Number: 4, Temp: CURSEG_WARM_DATA, Status: Valid, Files: [15]\n",
      "Zone Number: 7, Temp: CURSEG_WARM_DATA, Status: Valid, Files: [15]\n",
      "\n"
     ]
    }
   ],
   "source": [
    "timeline = []\n",
    "timectr = 0\n",
    "maxzone = 0 # highest zone to plot to\n",
    "\n",
    "# Ignore trivial moves as they do not modify anything in the storage\n",
    "for i in range(MAX_TIMEUNITS):    \n",
    "    for op, item in summary_dict.items():\n",
    "        if op == \"flush\":\n",
    "            for job, data in item.items():\n",
    "                if TRACE_FILE == data[\"table\"]:\n",
    "                    timeline.append(TimeUnit(timectr, job, \"flush\"))\n",
    "                    \n",
    "                    # find the zone in the operation\n",
    "                    for entry in json_data[job][\"f2fs_file_snapshot_after\"]:\n",
    "                        if f\"0{TRACE_FILE}.sst\" in entry[\"filename\"]:\n",
    "                            for zone in entry[\"hint\"]:\n",
    "                                if not timeline[timectr].haszone(zone[0]):\n",
    "                                    timeline[timectr].addzone(zone[0], zone[1], \"Valid\", TRACE_FILE)\n",
    "                                    if zone[0] > maxzone:\n",
    "                                        maxzone = zone[0]\n",
    "                    timectr+=1\n",
    "    \n",
    "        if op == \"compaction\":\n",
    "            for job, data in item.items():\n",
    "                if TRACE_FILE in data[\"src_tables\"]:\n",
    "                    timeline.append(TimeUnit(timectr, job, \"compaction\"))\n",
    "                    for destination in data[\"dest_tables\"]:\n",
    "                    \n",
    "                        # find the zone in the operation\n",
    "                        for entry in json_data[job][\"f2fs_file_snapshot_after\"]:\n",
    "                            if f\"0{destination}.sst\" in entry[\"filename\"]:\n",
    "                                for zone in entry[\"hint\"]:\n",
    "                                    if not timeline[timectr].haszone(zone[0]):\n",
    "                                        timeline[timectr].addzone(zone[0], zone[1], \"Valid\", destination)\n",
    "                                        if zone[0] > maxzone:\n",
    "                                            maxzone = zone[0]\n",
    "                    timectr+=1\n",
    "\n",
    "# TODO: zone status, change to reset or so\n",
    "\n",
    "# TO DEBUG (Use each to draw one point, all fields should have info to know what to draw/connect)\n",
    "print(timeline[0])"
   ]
  },
  {
   "cell_type": "code",
   "execution_count": 293,
   "id": "81f870a9",
   "metadata": {},
   "outputs": [
    {
     "data": {
      "image/png": "[encoded data removed]",
      "text/plain": [
       "<Figure size 500x500 with 1 Axes>"
      ]
     },
     "metadata": {},
     "output_type": "display_data"
    }
   ],
   "source": [
    "fig = plt.figure(figsize=(5, 5), facecolor=\"0.7\") # For debugging made it gray and show ticks so we see things. drop later!\n",
    "ax = fig.add_axes([0, 0, 1, 1], frameon=False, aspect=1) #, xticks=[], yticks=[])\n",
    "\n",
    "for timeunit in timeline:\n",
    "    # Add all zones at time point\n",
    "    zonewidth = 1/maxzone\n",
    "    for i in range(maxzone):\n",
    "        ax.add_patch(Rectangle((i*zonewidth+zonewidth, 0.1), zonewidth, 0.5,\n",
    "                     edgecolor = 'black',\n",
    "                     facecolor = 'white',\n",
    "                     fill=True,\n",
    "                     lw=1))\n",
    "\n",
    "ax.set_ylim(bottom=0, top=10)\n",
    "ax.set_xlim(0,10)\n",
    "\n",
    "plt.show()"
   ]
  },
  {
   "cell_type": "code",
   "execution_count": null,
   "id": "48779417",
   "metadata": {},
   "outputs": [],
   "source": []
  },
  {
   "cell_type": "code",
   "execution_count": null,
   "id": "f4c29c8e",
   "metadata": {},
   "outputs": [],
   "source": []
  }
 ],
 "metadata": {
  "kernelspec": {
   "display_name": "Python 3 (ipykernel)",
   "language": "python",
   "name": "python3"
  },
  "language_info": {
   "codemirror_mode": {
    "name": "ipython",
    "version": 3
   },
   "file_extension": ".py",
   "mimetype": "text/x-python",
   "name": "python",
   "nbconvert_exporter": "python",
   "pygments_lexer": "ipython3",
   "version": "3.10.6"
  }
 },
 "nbformat": 4,
 "nbformat_minor": 5
}
